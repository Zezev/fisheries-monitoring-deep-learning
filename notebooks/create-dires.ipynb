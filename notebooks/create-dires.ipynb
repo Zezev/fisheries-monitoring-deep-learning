{
 "cells": [
  {
   "cell_type": "code",
   "execution_count": 1,
   "metadata": {
    "collapsed": true
   },
   "outputs": [],
   "source": [
    "from random import randint\n",
    "import os\n",
    "from shutil import copy, rmtree"
   ]
  },
  {
   "cell_type": "code",
   "execution_count": 2,
   "metadata": {
    "collapsed": false
   },
   "outputs": [],
   "source": [
    "path = 'data/fishes/'\n",
    "full_path = os.getcwd() + '/' + path"
   ]
  },
  {
   "cell_type": "code",
   "execution_count": 3,
   "metadata": {
    "collapsed": true
   },
   "outputs": [],
   "source": [
    "classes = ['ALB', 'BET', 'DOL', 'LAG', 'NoF', 'OTHER', 'SHARK', 'YFT']"
   ]
  },
  {
   "cell_type": "code",
   "execution_count": 12,
   "metadata": {
    "collapsed": true
   },
   "outputs": [],
   "source": [
    "from glob import glob\n",
    "import numpy as np"
   ]
  },
  {
   "cell_type": "code",
   "execution_count": 4,
   "metadata": {
    "collapsed": false
   },
   "outputs": [],
   "source": [
    "def create_validation_dir():\n",
    "    os.mkdir(full_path + 'valid')\n",
    "    for fish in classes:\n",
    "        os.mkdir(full_path + 'valid/' + fish)\n",
    "        fish_path = full_path + '{}/' + fish + '/'\n",
    "        fish_train_path = fish_path.format('train')\n",
    "        g = glob(fish_train_path + '*.jpg')\n",
    "        g = np.random.permutation(g)\n",
    "        elems = int(len(g) * validation_ratio)\n",
    "        print(fish, 'size:', len(g), 'moving:', elems)\n",
    "        for image in g[:elems]:    \n",
    "            image_name = image.split('/')[-1]\n",
    "            os.rename(image, fish_path.format('valid') + image_name)"
   ]
  },
  {
   "cell_type": "code",
   "execution_count": 5,
   "metadata": {
    "collapsed": false
   },
   "outputs": [],
   "source": [
    "def create_test_dir(ratio):\n",
    "    os.mkdir(full_path + 'test_valid')\n",
    "    for fish in classes:\n",
    "        os.mkdir(full_path + 'test_valid/' + fish)\n",
    "        fish_path = full_path + '{}/' + fish + '/'\n",
    "        fish_train_path = fish_path.format('train')\n",
    "        g = glob(fish_train_path + '*.jpg')\n",
    "        g = np.random.permutation(g)\n",
    "        elems = int(len(g) * ratio)\n",
    "        print(fish, 'size:', len(g), 'moving:', elems)\n",
    "        for image in g[:elems]:    \n",
    "            image_name = image.split('/')[-1]\n",
    "            os.rename(image, fish_path.format('test_valid') + image_name)"
   ]
  },
  {
   "cell_type": "code",
   "execution_count": 7,
   "metadata": {
    "collapsed": true
   },
   "outputs": [],
   "source": [
    "def undo_validation_dir():\n",
    "    for fish in classes:\n",
    "        fish_path = full_path + '{}/' + fish + '/'\n",
    "        fish_valid_path = fish_path.format('valid')\n",
    "        g = glob(fish_valid_path + '*.jpg')\n",
    "        for image in g:    \n",
    "            image_name = image.split('/')[-1]\n",
    "            os.rename(image, fish_path.format('train') + image_name)\n",
    "        os.rmdir(fish_valid_path)\n",
    "    os.rmdir(full_path + 'valid')"
   ]
  },
  {
   "cell_type": "code",
   "execution_count": 8,
   "metadata": {
    "collapsed": true
   },
   "outputs": [],
   "source": [
    "def create_sample_dir():\n",
    "    os.mkdir(full_path + 'sample')\n",
    "    os.mkdir(full_path + 'sample/valid')\n",
    "    os.mkdir(full_path + 'sample/train')\n",
    "    for fish in classes:\n",
    "        os.mkdir(full_path + 'sample/valid/' + fish)\n",
    "        os.mkdir(full_path + 'sample/train/' + fish)\n",
    "\n",
    "        fish_path = full_path + '{}/' + fish + '/'\n",
    "        fish_train_path = fish_path.format('train')\n",
    "        g = glob(fish_train_path + '*.jpg')\n",
    "        elems_train = min(int(len(g) * sample_ratio), 3)\n",
    "        elems_valid = min(int(len(g) * validation_ratio * sample_ratio), 3)\n",
    "        for image in g[:elems_train]:    \n",
    "            image_name = image.split('/')[-1]\n",
    "            copy(image, fish_path.format('sample/train') + image_name)\n",
    "        for image in g[:elems_valid]:    \n",
    "            image_name = image.split('/')[-1]\n",
    "            copy(image, fish_path.format('sample/valid') + image_name)\n",
    "            \n",
    "def remove_sample_dir():\n",
    "    rmtree(full_path + 'sample')"
   ]
  },
  {
   "cell_type": "code",
   "execution_count": 13,
   "metadata": {
    "collapsed": false
   },
   "outputs": [
    {
     "name": "stdout",
     "output_type": "stream",
     "text": [
      "('ALB', 'size:', 1462, 'moving:', 292)\n",
      "('BET', 'size:', 170, 'moving:', 34)\n",
      "('DOL', 'size:', 100, 'moving:', 20)\n",
      "('LAG', 'size:', 57, 'moving:', 11)\n",
      "('NoF', 'size:', 396, 'moving:', 79)\n",
      "('OTHER', 'size:', 255, 'moving:', 51)\n",
      "('SHARK', 'size:', 150, 'moving:', 30)\n",
      "('YFT', 'size:', 624, 'moving:', 124)\n"
     ]
    }
   ],
   "source": [
    "create_test_dir(0.2)"
   ]
  },
  {
   "cell_type": "code",
   "execution_count": null,
   "metadata": {
    "collapsed": true
   },
   "outputs": [],
   "source": []
  }
 ],
 "metadata": {
  "anaconda-cloud": {},
  "kernelspec": {
   "display_name": "Python [conda root]",
   "language": "python",
   "name": "conda-root-py"
  },
  "language_info": {
   "codemirror_mode": {
    "name": "ipython",
    "version": 2
   },
   "file_extension": ".py",
   "mimetype": "text/x-python",
   "name": "python",
   "nbconvert_exporter": "python",
   "pygments_lexer": "ipython2",
   "version": "2.7.12"
  }
 },
 "nbformat": 4,
 "nbformat_minor": 1
}
